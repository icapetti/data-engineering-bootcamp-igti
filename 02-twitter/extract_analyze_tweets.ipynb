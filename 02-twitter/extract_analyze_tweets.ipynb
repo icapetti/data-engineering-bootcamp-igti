{
 "metadata": {
  "language_info": {
   "codemirror_mode": {
    "name": "ipython",
    "version": 3
   },
   "file_extension": ".py",
   "mimetype": "text/x-python",
   "name": "python",
   "nbconvert_exporter": "python",
   "pygments_lexer": "ipython3",
   "version": "3.6.9-final"
  },
  "orig_nbformat": 2,
  "kernelspec": {
   "name": "python3",
   "display_name": "Python 3.6.9 64-bit",
   "metadata": {
    "interpreter": {
     "hash": "767d51c1340bd893661ea55ea3124f6de3c7a262a8b4abca0554b478b1e2ff90"
    }
   }
  }
 },
 "nbformat": 4,
 "nbformat_minor": 2,
 "cells": [
  {
   "cell_type": "code",
   "execution_count": 14,
   "metadata": {},
   "outputs": [],
   "source": [
    "import json\n",
    "import pandas as pd"
   ]
  },
  {
   "cell_type": "code",
   "execution_count": 2,
   "metadata": {},
   "outputs": [],
   "source": [
    "# Opens the tweets file in read mode\n",
    "with open('collected_tweets2020-12-07_13:29:12.txt','r') as file:\n",
    "    tweets = file.readlines()"
   ]
  },
  {
   "cell_type": "code",
   "execution_count": 7,
   "metadata": {},
   "outputs": [],
   "source": [
    "# Parse tweet to json format (list)\n",
    "parsed_tweets = [json.loads(json.loads(i)) for i in tweets]"
   ]
  },
  {
   "cell_type": "code",
   "execution_count": 10,
   "metadata": {},
   "outputs": [
    {
     "output_type": "execute_result",
     "data": {
      "text/plain": [
       "9668"
      ]
     },
     "metadata": {},
     "execution_count": 10
    }
   ],
   "source": [
    "# Quantity of collected tweets\n",
    "len(parsed_tweets)"
   ]
  },
  {
   "cell_type": "code",
   "execution_count": 12,
   "metadata": {},
   "outputs": [],
   "source": [
    "primeiro_tweet = parsed_tweets[0]"
   ]
  },
  {
   "cell_type": "code",
   "execution_count": 19,
   "metadata": {},
   "outputs": [],
   "source": [
    "# Transform parsed_tweets into table format\n",
    "df = pd.DataFrame(primeiro_tweet).reset_index(drop=True).iloc[:1]"
   ]
  },
  {
   "cell_type": "code",
   "execution_count": 20,
   "metadata": {},
   "outputs": [],
   "source": [
    "# Remove unnecessary columns\n",
    "df.drop(columns=['quote_count'\n",
    ",'reply_count'\n",
    ",'retweet_count'\n",
    ",'favorite_count'\n",
    ",'favorited'\n",
    ",'retweeted'\n",
    ",'user'\n",
    ",'entities'\n",
    ",'retweeted_status'], inplace=True)"
   ]
  },
  {
   "cell_type": "code",
   "execution_count": 24,
   "metadata": {},
   "outputs": [],
   "source": [
    "# Select fields from the user object and add them to the Dataframe\n",
    "df['user_id'] = primeiro_tweet['user']['id']\n",
    "df['user_id_str'] = primeiro_tweet['user']['id_str']\n",
    "df['user_screen_name'] = primeiro_tweet['user']['screen_name']\n",
    "df['user_location'] = primeiro_tweet['user']['location']\n",
    "df['user_description'] = primeiro_tweet['user']['description']\n",
    "df['user_protected'] = primeiro_tweet['user']['protected']\n",
    "df['user_verified'] = primeiro_tweet['user']['verified']\n",
    "df['user_followers_count'] = primeiro_tweet['user']['followers_count']\n",
    "df['user_friends_count'] = primeiro_tweet['user']['friends_count']"
   ]
  },
  {
   "cell_type": "code",
   "execution_count": 26,
   "metadata": {},
   "outputs": [
    {
     "output_type": "execute_result",
     "data": {
      "text/plain": [
       "                       created_at                   id               id_str  \\\n",
       "0  Mon Dec 07 16:29:07 +0000 2020  1335984697692876802  1335984697692876802   \n",
       "\n",
       "                                                text  \\\n",
       "0  RT @paulsperry_: BREAKING: IRS tax filings rev...   \n",
       "\n",
       "                                              source  truncated  \\\n",
       "0  <a href=\"http://twitter.com/download/iphone\" r...      False   \n",
       "\n",
       "  in_reply_to_status_id in_reply_to_status_id_str in_reply_to_user_id  \\\n",
       "0                  None                      None                None   \n",
       "\n",
       "  in_reply_to_user_id_str  ...   timestamp_ms              user_id  \\\n",
       "0                    None  ...  1607358547982  1299012035372552192   \n",
       "\n",
       "           user_id_str user_screen_name user_location  \\\n",
       "0  1299012035372552192    scientist_for          None   \n",
       "\n",
       "                                    user_description user_protected  \\\n",
       "0  I’m a scientist who is tired of the mk-ultra m...          False   \n",
       "\n",
       "  user_verified user_followers_count  user_friends_count  \n",
       "0         False                  133                 587  \n",
       "\n",
       "[1 rows x 28 columns]"
      ],
      "text/html": "<div>\n<style scoped>\n    .dataframe tbody tr th:only-of-type {\n        vertical-align: middle;\n    }\n\n    .dataframe tbody tr th {\n        vertical-align: top;\n    }\n\n    .dataframe thead th {\n        text-align: right;\n    }\n</style>\n<table border=\"1\" class=\"dataframe\">\n  <thead>\n    <tr style=\"text-align: right;\">\n      <th></th>\n      <th>created_at</th>\n      <th>id</th>\n      <th>id_str</th>\n      <th>text</th>\n      <th>source</th>\n      <th>truncated</th>\n      <th>in_reply_to_status_id</th>\n      <th>in_reply_to_status_id_str</th>\n      <th>in_reply_to_user_id</th>\n      <th>in_reply_to_user_id_str</th>\n      <th>...</th>\n      <th>timestamp_ms</th>\n      <th>user_id</th>\n      <th>user_id_str</th>\n      <th>user_screen_name</th>\n      <th>user_location</th>\n      <th>user_description</th>\n      <th>user_protected</th>\n      <th>user_verified</th>\n      <th>user_followers_count</th>\n      <th>user_friends_count</th>\n    </tr>\n  </thead>\n  <tbody>\n    <tr>\n      <th>0</th>\n      <td>Mon Dec 07 16:29:07 +0000 2020</td>\n      <td>1335984697692876802</td>\n      <td>1335984697692876802</td>\n      <td>RT @paulsperry_: BREAKING: IRS tax filings rev...</td>\n      <td>&lt;a href=\"http://twitter.com/download/iphone\" r...</td>\n      <td>False</td>\n      <td>None</td>\n      <td>None</td>\n      <td>None</td>\n      <td>None</td>\n      <td>...</td>\n      <td>1607358547982</td>\n      <td>1299012035372552192</td>\n      <td>1299012035372552192</td>\n      <td>scientist_for</td>\n      <td>None</td>\n      <td>I’m a scientist who is tired of the mk-ultra m...</td>\n      <td>False</td>\n      <td>False</td>\n      <td>133</td>\n      <td>587</td>\n    </tr>\n  </tbody>\n</table>\n<p>1 rows × 28 columns</p>\n</div>"
     },
     "metadata": {},
     "execution_count": 26
    }
   ],
   "source": [
    "df.head()"
   ]
  },
  {
   "cell_type": "code",
   "execution_count": null,
   "metadata": {},
   "outputs": [],
   "source": []
  }
 ]
}