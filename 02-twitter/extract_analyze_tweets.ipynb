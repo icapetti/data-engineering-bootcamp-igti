{
 "metadata": {
  "language_info": {
   "codemirror_mode": {
    "name": "ipython",
    "version": 3
   },
   "file_extension": ".py",
   "mimetype": "text/x-python",
   "name": "python",
   "nbconvert_exporter": "python",
   "pygments_lexer": "ipython3",
   "version": "3.6.9-final"
  },
  "orig_nbformat": 2,
  "kernelspec": {
   "name": "python3",
   "display_name": "Python 3.6.9 64-bit",
   "metadata": {
    "interpreter": {
     "hash": "767d51c1340bd893661ea55ea3124f6de3c7a262a8b4abca0554b478b1e2ff90"
    }
   }
  }
 },
 "nbformat": 4,
 "nbformat_minor": 2,
 "cells": [
  {
   "cell_type": "code",
   "execution_count": 1,
   "metadata": {},
   "outputs": [],
   "source": [
    "import json\n",
    "import pandas as pd"
   ]
  },
  {
   "cell_type": "code",
   "execution_count": 2,
   "metadata": {},
   "outputs": [],
   "source": [
    "# Opens the tweets file in read mode\n",
    "with open('collected_tweets2020-12-07_13:29:12.txt','r') as file:\n",
    "    tweets = file.readlines()"
   ]
  },
  {
   "cell_type": "code",
   "execution_count": 3,
   "metadata": {},
   "outputs": [],
   "source": [
    "# Parse tweet to json format (list)\n",
    "parsed_tweets = [json.loads(json.loads(i)) for i in tweets]"
   ]
  },
  {
   "cell_type": "code",
   "execution_count": 6,
   "metadata": {},
   "outputs": [],
   "source": [
    "# Define a function that handles the tweet and converts it to a dataframe\n",
    "\n",
    "# Different types of tweets have different types of structure. This function only covers text tweets. Video, image etc are not treated and are therefore disregarded (try / except return None)\n",
    "\n",
    "def tweet_to_df(tweet):\n",
    "    try:\n",
    "        # Transform parsed_tweets into table format\n",
    "        df_tratado = pd.DataFrame(tweet).reset_index(drop=True).iloc[:1]\n",
    "\n",
    "        # Remove unnecessary columns\n",
    "        df_tratado.drop(columns=[\n",
    "        'quote_count'\n",
    "        ,'reply_count'\n",
    "        ,'retweet_count'\n",
    "        ,'favorite_count'\n",
    "        ,'favorited'\n",
    "        ,'retweeted'\n",
    "        ,'user'\n",
    "        ,'entities'\n",
    "        ,'retweeted_status'], inplace=True)\n",
    "\n",
    "        # Select fields from the user object and add them to the Dataframe\n",
    "        df_tratado['user_id'] = tweet['user']['id']\n",
    "        df_tratado['user_id_str'] = tweet['user']['id_str']\n",
    "        df_tratado['user_screen_name'] = tweet['user']['screen_name']\n",
    "        df_tratado['user_location'] = tweet['user']['location']\n",
    "        df_tratado['user_description'] = tweet['user']['description']\n",
    "        df_tratado['user_protected'] = tweet['user']['protected']\n",
    "        df_tratado['user_verified'] = tweet['user']['verified']\n",
    "        df_tratado['user_followers_count'] = tweet['user']['followers_count']\n",
    "        df_tratado['user_friends_count'] = tweet['user']['friends_count']\n",
    "\n",
    "        # copy(): to avoid using the pointer concept, changes made to the copied object will not affect         the original object. If we do not use copy(), making only a simple assignment, the changes              made to the new object will also be reflected in the original object.\n",
    "        user_mentions = []\n",
    "        for i in range(len(tweet['entities']['user_mentions'])):\n",
    "            dict_base = tweet['entities']['user_mentions'][i].copy()\n",
    "            dict_base.pop('indices', None)\n",
    "            df = pd.DataFrame(dict_base, index=[0])\n",
    "            df = df.rename(columns={\n",
    "                'screen_name':'entities_screen_name'\n",
    "                ,'name':'entities_name'\n",
    "                ,'id':'entities_id'\n",
    "                ,'id_str':'entities_id_str'\n",
    "            })\n",
    "            user_mentions.append(df)\n",
    "\n",
    "        dfs = []\n",
    "        for i in user_mentions:\n",
    "            dfs.append(\n",
    "                pd.concat([df_tratado.copy(), i], axis=1)\n",
    "            )\n",
    "\n",
    "        df_final = pd.concat(dfs, ignore_index=True)\n",
    "    except:\n",
    "        return None\n",
    "    return df_final"
   ]
  },
  {
   "cell_type": "code",
   "execution_count": 10,
   "metadata": {},
   "outputs": [
    {
     "output_type": "stream",
     "name": "stdout",
     "text": [
      "CPU times: user 3min 11s, sys: 293 ms, total: 3min 12s\nWall time: 3min 12s\n"
     ]
    }
   ],
   "source": [
    "%%time # runtime\n",
    "# Iterate and transform all tweets\n",
    "# We do the iteration saving it in a list because iterating over DataFrame in Python is exponentially slow.\n",
    "parsed = [tweet_to_df(tweet) for tweet in parsed_tweets]"
   ]
  },
  {
   "cell_type": "code",
   "execution_count": 12,
   "metadata": {},
   "outputs": [],
   "source": [
    "# Deletes empty positions from the list (those non-text tweets and the function returns none)\n",
    "parsed = [i for i in parsed if i is not None]"
   ]
  },
  {
   "cell_type": "code",
   "execution_count": 13,
   "metadata": {},
   "outputs": [],
   "source": [
    "final_data = pd.concat(parsed, ignore_index=True)"
   ]
  },
  {
   "cell_type": "code",
   "execution_count": 15,
   "metadata": {},
   "outputs": [
    {
     "output_type": "execute_result",
     "data": {
      "text/plain": [
       "                       created_at                   id               id_str  \\\n",
       "0  Mon Dec 07 16:29:07 +0000 2020  1335984697692876802  1335984697692876802   \n",
       "1  Mon Dec 07 16:29:08 +0000 2020  1335984698221342722  1335984698221342722   \n",
       "2  Mon Dec 07 16:29:08 +0000 2020  1335984698523316231  1335984698523316231   \n",
       "3  Mon Dec 07 16:29:08 +0000 2020  1335984698749665280  1335984698749665280   \n",
       "4  Mon Dec 07 16:29:08 +0000 2020  1335984698703687687  1335984698703687687   \n",
       "\n",
       "                                                text  \\\n",
       "0  RT @paulsperry_: BREAKING: IRS tax filings rev...   \n",
       "1  RT @Teri_Kanefield: Both, right?\\n\\nGiving cre...   \n",
       "2        RT @LLinWood: Don’t forget Jeffrey Epstein.   \n",
       "3  RT @marceelias: 🚨🚨BREAKING: Georgia federal ju...   \n",
       "4  RT @marceelias: Got ahead of myself. It is sti...   \n",
       "\n",
       "                                              source  truncated  \\\n",
       "0  <a href=\"http://twitter.com/download/iphone\" r...      False   \n",
       "1  <a href=\"https://mobile.twitter.com\" rel=\"nofo...      False   \n",
       "2  <a href=\"http://twitter.com/download/iphone\" r...      False   \n",
       "3  <a href=\"http://twitter.com/download/iphone\" r...      False   \n",
       "4  <a href=\"http://twitter.com/download/iphone\" r...      False   \n",
       "\n",
       "  in_reply_to_status_id in_reply_to_status_id_str in_reply_to_user_id  \\\n",
       "0                  None                      None                None   \n",
       "1                  None                      None                None   \n",
       "2                  None                      None                None   \n",
       "3                  None                      None                None   \n",
       "4                  None                      None                None   \n",
       "\n",
       "  in_reply_to_user_id_str  ... entities_screen_name   entities_name  \\\n",
       "0                    None  ...          paulsperry_     Paul Sperry   \n",
       "1                    None  ...       Teri_Kanefield  Teri Kanefield   \n",
       "2                    None  ...             LLinWood        Lin Wood   \n",
       "3                    None  ...           marceelias   Marc E. Elias   \n",
       "4                    None  ...           marceelias   Marc E. Elias   \n",
       "\n",
       "          entities_id     entities_id_str quoted_status_id  \\\n",
       "0  739610364975808513  739610364975808513              NaN   \n",
       "1           429531188           429531188     1.335961e+18   \n",
       "2           187680645           187680645     1.335253e+18   \n",
       "3            23281108            23281108              NaN   \n",
       "4            23281108            23281108     1.335980e+18   \n",
       "\n",
       "   quoted_status_id_str        quoted_status quoted_status_permalink  \\\n",
       "0                   NaN                  NaN                     NaN   \n",
       "1   1335961405317476352  1335961405317476352                     NaN   \n",
       "2   1335253088400183302  1335253088400183302                     NaN   \n",
       "3                   NaN                  NaN                     NaN   \n",
       "4   1335980197305315336  1335980197305315336                     NaN   \n",
       "\n",
       "  possibly_sensitive  extended_entities  \n",
       "0                NaN                NaN  \n",
       "1                NaN                NaN  \n",
       "2                NaN                NaN  \n",
       "3                NaN                NaN  \n",
       "4                NaN                NaN  \n",
       "\n",
       "[5 rows x 38 columns]"
      ],
      "text/html": "<div>\n<style scoped>\n    .dataframe tbody tr th:only-of-type {\n        vertical-align: middle;\n    }\n\n    .dataframe tbody tr th {\n        vertical-align: top;\n    }\n\n    .dataframe thead th {\n        text-align: right;\n    }\n</style>\n<table border=\"1\" class=\"dataframe\">\n  <thead>\n    <tr style=\"text-align: right;\">\n      <th></th>\n      <th>created_at</th>\n      <th>id</th>\n      <th>id_str</th>\n      <th>text</th>\n      <th>source</th>\n      <th>truncated</th>\n      <th>in_reply_to_status_id</th>\n      <th>in_reply_to_status_id_str</th>\n      <th>in_reply_to_user_id</th>\n      <th>in_reply_to_user_id_str</th>\n      <th>...</th>\n      <th>entities_screen_name</th>\n      <th>entities_name</th>\n      <th>entities_id</th>\n      <th>entities_id_str</th>\n      <th>quoted_status_id</th>\n      <th>quoted_status_id_str</th>\n      <th>quoted_status</th>\n      <th>quoted_status_permalink</th>\n      <th>possibly_sensitive</th>\n      <th>extended_entities</th>\n    </tr>\n  </thead>\n  <tbody>\n    <tr>\n      <th>0</th>\n      <td>Mon Dec 07 16:29:07 +0000 2020</td>\n      <td>1335984697692876802</td>\n      <td>1335984697692876802</td>\n      <td>RT @paulsperry_: BREAKING: IRS tax filings rev...</td>\n      <td>&lt;a href=\"http://twitter.com/download/iphone\" r...</td>\n      <td>False</td>\n      <td>None</td>\n      <td>None</td>\n      <td>None</td>\n      <td>None</td>\n      <td>...</td>\n      <td>paulsperry_</td>\n      <td>Paul Sperry</td>\n      <td>739610364975808513</td>\n      <td>739610364975808513</td>\n      <td>NaN</td>\n      <td>NaN</td>\n      <td>NaN</td>\n      <td>NaN</td>\n      <td>NaN</td>\n      <td>NaN</td>\n    </tr>\n    <tr>\n      <th>1</th>\n      <td>Mon Dec 07 16:29:08 +0000 2020</td>\n      <td>1335984698221342722</td>\n      <td>1335984698221342722</td>\n      <td>RT @Teri_Kanefield: Both, right?\\n\\nGiving cre...</td>\n      <td>&lt;a href=\"https://mobile.twitter.com\" rel=\"nofo...</td>\n      <td>False</td>\n      <td>None</td>\n      <td>None</td>\n      <td>None</td>\n      <td>None</td>\n      <td>...</td>\n      <td>Teri_Kanefield</td>\n      <td>Teri Kanefield</td>\n      <td>429531188</td>\n      <td>429531188</td>\n      <td>1.335961e+18</td>\n      <td>1335961405317476352</td>\n      <td>1335961405317476352</td>\n      <td>NaN</td>\n      <td>NaN</td>\n      <td>NaN</td>\n    </tr>\n    <tr>\n      <th>2</th>\n      <td>Mon Dec 07 16:29:08 +0000 2020</td>\n      <td>1335984698523316231</td>\n      <td>1335984698523316231</td>\n      <td>RT @LLinWood: Don’t forget Jeffrey Epstein.</td>\n      <td>&lt;a href=\"http://twitter.com/download/iphone\" r...</td>\n      <td>False</td>\n      <td>None</td>\n      <td>None</td>\n      <td>None</td>\n      <td>None</td>\n      <td>...</td>\n      <td>LLinWood</td>\n      <td>Lin Wood</td>\n      <td>187680645</td>\n      <td>187680645</td>\n      <td>1.335253e+18</td>\n      <td>1335253088400183302</td>\n      <td>1335253088400183302</td>\n      <td>NaN</td>\n      <td>NaN</td>\n      <td>NaN</td>\n    </tr>\n    <tr>\n      <th>3</th>\n      <td>Mon Dec 07 16:29:08 +0000 2020</td>\n      <td>1335984698749665280</td>\n      <td>1335984698749665280</td>\n      <td>RT @marceelias: 🚨🚨BREAKING: Georgia federal ju...</td>\n      <td>&lt;a href=\"http://twitter.com/download/iphone\" r...</td>\n      <td>False</td>\n      <td>None</td>\n      <td>None</td>\n      <td>None</td>\n      <td>None</td>\n      <td>...</td>\n      <td>marceelias</td>\n      <td>Marc E. Elias</td>\n      <td>23281108</td>\n      <td>23281108</td>\n      <td>NaN</td>\n      <td>NaN</td>\n      <td>NaN</td>\n      <td>NaN</td>\n      <td>NaN</td>\n      <td>NaN</td>\n    </tr>\n    <tr>\n      <th>4</th>\n      <td>Mon Dec 07 16:29:08 +0000 2020</td>\n      <td>1335984698703687687</td>\n      <td>1335984698703687687</td>\n      <td>RT @marceelias: Got ahead of myself. It is sti...</td>\n      <td>&lt;a href=\"http://twitter.com/download/iphone\" r...</td>\n      <td>False</td>\n      <td>None</td>\n      <td>None</td>\n      <td>None</td>\n      <td>None</td>\n      <td>...</td>\n      <td>marceelias</td>\n      <td>Marc E. Elias</td>\n      <td>23281108</td>\n      <td>23281108</td>\n      <td>1.335980e+18</td>\n      <td>1335980197305315336</td>\n      <td>1335980197305315336</td>\n      <td>NaN</td>\n      <td>NaN</td>\n      <td>NaN</td>\n    </tr>\n  </tbody>\n</table>\n<p>5 rows × 38 columns</p>\n</div>"
     },
     "metadata": {},
     "execution_count": 15
    }
   ],
   "source": [
    "final_data.head()"
   ]
  },
  {
   "cell_type": "code",
   "execution_count": null,
   "metadata": {},
   "outputs": [],
   "source": []
  }
 ]
}