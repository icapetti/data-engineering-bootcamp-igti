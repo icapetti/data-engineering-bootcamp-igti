{
 "metadata": {
  "language_info": {
   "codemirror_mode": {
    "name": "ipython",
    "version": 3
   },
   "file_extension": ".py",
   "mimetype": "text/x-python",
   "name": "python",
   "nbconvert_exporter": "python",
   "pygments_lexer": "ipython3",
   "version": "3.6.9-final"
  },
  "orig_nbformat": 2,
  "kernelspec": {
   "name": "python3",
   "display_name": "Python 3.6.9 64-bit",
   "metadata": {
    "interpreter": {
     "hash": "767d51c1340bd893661ea55ea3124f6de3c7a262a8b4abca0554b478b1e2ff90"
    }
   }
  }
 },
 "nbformat": 4,
 "nbformat_minor": 2,
 "cells": [
  {
   "cell_type": "code",
   "execution_count": 1,
   "metadata": {},
   "outputs": [],
   "source": [
    "import json\n",
    "import pandas as pd"
   ]
  },
  {
   "cell_type": "code",
   "execution_count": 2,
   "metadata": {},
   "outputs": [],
   "source": [
    "# Opens the tweets file in read mode\n",
    "with open('collected_tweets2020-12-07_13:29:12.txt','r') as file:\n",
    "    tweets = file.readlines()"
   ]
  },
  {
   "cell_type": "code",
   "execution_count": 3,
   "metadata": {},
   "outputs": [],
   "source": [
    "# Parse tweet to json format (list)\n",
    "parsed_tweets = [json.loads(json.loads(i)) for i in tweets]"
   ]
  },
  {
   "cell_type": "code",
   "execution_count": 6,
   "metadata": {},
   "outputs": [],
   "source": [
    "# Define a function that handles the tweet and converts it to a dataframe\n",
    "def tweet_to_df(tweet):\n",
    "    try:\n",
    "        # Transform parsed_tweets into table format\n",
    "        df_tratado = pd.DataFrame(tweet).reset_index(drop=True).iloc[:1]\n",
    "\n",
    "        # Remove unnecessary columns\n",
    "        df_tratado.drop(columns=[\n",
    "        'quote_count'\n",
    "        ,'reply_count'\n",
    "        ,'retweet_count'\n",
    "        ,'favorite_count'\n",
    "        ,'favorited'\n",
    "        ,'retweeted'\n",
    "        ,'user'\n",
    "        ,'entities'\n",
    "        ,'retweeted_status'], inplace=True)\n",
    "\n",
    "        # Select fields from the user object and add them to the Dataframe\n",
    "        df_tratado['user_id'] = tweet['user']['id']\n",
    "        df_tratado['user_id_str'] = tweet['user']['id_str']\n",
    "        df_tratado['user_screen_name'] = tweet['user']['screen_name']\n",
    "        df_tratado['user_location'] = tweet['user']['location']\n",
    "        df_tratado['user_description'] = tweet['user']['description']\n",
    "        df_tratado['user_protected'] = tweet['user']['protected']\n",
    "        df_tratado['user_verified'] = tweet['user']['verified']\n",
    "        df_tratado['user_followers_count'] = tweet['user']['followers_count']\n",
    "        df_tratado['user_friends_count'] = tweet['user']['friends_count']\n",
    "\n",
    "        # copy(): to avoid using the pointer concept, changes made to the copied object will not affect the     original object. If we do not use copy(), making only a simple assignment, the changes made to the     new object will also be reflected in the original object.\n",
    "        user_mentions = []\n",
    "        for i in range(len(tweet['entities']['user_mentions'])):\n",
    "            dict_base = tweet['entities']['user_mentions'][i].copy()\n",
    "            dict_base.pop('indices', None)\n",
    "            df = pd.DataFrame(dict_base, index=[0])\n",
    "            df = df.rename(columns={\n",
    "                'screen_name':'entities_screen_name'\n",
    "                ,'name':'entities_name'\n",
    "                ,'id':'entities_id'\n",
    "                ,'id_str':'entities_id_str'\n",
    "            })\n",
    "            user_mentions.append(df)\n",
    "\n",
    "        dfs = []\n",
    "        for i in user_mentions:\n",
    "            dfs.append(\n",
    "                pd.concat([df_tratado.copy(), i], axis=1)\n",
    "            )\n",
    "\n",
    "        df_final = pd.concat(dfs, ignore_index=True)\n",
    "    except:\n",
    "        return None\n",
    "    return df_final"
   ]
  },
  {
   "cell_type": "code",
   "execution_count": 9,
   "metadata": {},
   "outputs": [
    {
     "output_type": "execute_result",
     "data": {
      "text/plain": [
       "                       created_at                   id               id_str  \\\n",
       "0  Mon Dec 07 16:29:07 +0000 2020  1335984697692876802  1335984697692876802   \n",
       "\n",
       "                                                text  \\\n",
       "0  RT @paulsperry_: BREAKING: IRS tax filings rev...   \n",
       "\n",
       "                                              source  truncated  \\\n",
       "0  <a href=\"http://twitter.com/download/iphone\" r...      False   \n",
       "\n",
       "  in_reply_to_status_id in_reply_to_status_id_str in_reply_to_user_id  \\\n",
       "0                  None                      None                None   \n",
       "\n",
       "  in_reply_to_user_id_str  ... user_location  \\\n",
       "0                    None  ...          None   \n",
       "\n",
       "                                    user_description user_protected  \\\n",
       "0  I’m a scientist who is tired of the mk-ultra m...          False   \n",
       "\n",
       "  user_verified user_followers_count  user_friends_count entities_screen_name  \\\n",
       "0         False                  133                 587          paulsperry_   \n",
       "\n",
       "  entities_name         entities_id     entities_id_str  \n",
       "0   Paul Sperry  739610364975808513  739610364975808513  \n",
       "\n",
       "[1 rows x 32 columns]"
      ],
      "text/html": "<div>\n<style scoped>\n    .dataframe tbody tr th:only-of-type {\n        vertical-align: middle;\n    }\n\n    .dataframe tbody tr th {\n        vertical-align: top;\n    }\n\n    .dataframe thead th {\n        text-align: right;\n    }\n</style>\n<table border=\"1\" class=\"dataframe\">\n  <thead>\n    <tr style=\"text-align: right;\">\n      <th></th>\n      <th>created_at</th>\n      <th>id</th>\n      <th>id_str</th>\n      <th>text</th>\n      <th>source</th>\n      <th>truncated</th>\n      <th>in_reply_to_status_id</th>\n      <th>in_reply_to_status_id_str</th>\n      <th>in_reply_to_user_id</th>\n      <th>in_reply_to_user_id_str</th>\n      <th>...</th>\n      <th>user_location</th>\n      <th>user_description</th>\n      <th>user_protected</th>\n      <th>user_verified</th>\n      <th>user_followers_count</th>\n      <th>user_friends_count</th>\n      <th>entities_screen_name</th>\n      <th>entities_name</th>\n      <th>entities_id</th>\n      <th>entities_id_str</th>\n    </tr>\n  </thead>\n  <tbody>\n    <tr>\n      <th>0</th>\n      <td>Mon Dec 07 16:29:07 +0000 2020</td>\n      <td>1335984697692876802</td>\n      <td>1335984697692876802</td>\n      <td>RT @paulsperry_: BREAKING: IRS tax filings rev...</td>\n      <td>&lt;a href=\"http://twitter.com/download/iphone\" r...</td>\n      <td>False</td>\n      <td>None</td>\n      <td>None</td>\n      <td>None</td>\n      <td>None</td>\n      <td>...</td>\n      <td>None</td>\n      <td>I’m a scientist who is tired of the mk-ultra m...</td>\n      <td>False</td>\n      <td>False</td>\n      <td>133</td>\n      <td>587</td>\n      <td>paulsperry_</td>\n      <td>Paul Sperry</td>\n      <td>739610364975808513</td>\n      <td>739610364975808513</td>\n    </tr>\n  </tbody>\n</table>\n<p>1 rows × 32 columns</p>\n</div>"
     },
     "metadata": {},
     "execution_count": 9
    }
   ],
   "source": [
    "tweet_to_df(parsed_tweets[0])"
   ]
  },
  {
   "cell_type": "code",
   "execution_count": null,
   "metadata": {},
   "outputs": [],
   "source": []
  }
 ]
}