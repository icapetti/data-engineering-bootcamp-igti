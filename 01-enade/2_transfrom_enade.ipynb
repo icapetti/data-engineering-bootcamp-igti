{
 "metadata": {
  "language_info": {
   "codemirror_mode": {
    "name": "ipython",
    "version": 3
   },
   "file_extension": ".py",
   "mimetype": "text/x-python",
   "name": "python",
   "nbconvert_exporter": "python",
   "pygments_lexer": "ipython3",
   "version": "3.6.9-final"
  },
  "orig_nbformat": 2,
  "kernelspec": {
   "name": "python3",
   "display_name": "Python 3.6.9 64-bit",
   "metadata": {
    "interpreter": {
     "hash": "767d51c1340bd893661ea55ea3124f6de3c7a262a8b4abca0554b478b1e2ff90"
    }
   }
  }
 },
 "nbformat": 4,
 "nbformat_minor": 2,
 "cells": [
  {
   "cell_type": "code",
   "execution_count": 1,
   "metadata": {},
   "outputs": [],
   "source": [
    "import pandas as pd\n",
    "import numpy as np\n",
    "import os"
   ]
  },
  {
   "cell_type": "code",
   "execution_count": 2,
   "metadata": {},
   "outputs": [],
   "source": [
    "# Read downloaded data\n",
    "enade = pd.read_csv('./enade2019/microdados_enade_2019/2019/3.DADOS/microdados_enade_2019.txt',\n",
    "                    sep=';', decimal=',')"
   ]
  },
  {
   "cell_type": "code",
   "execution_count": null,
   "metadata": {},
   "outputs": [],
   "source": [
    "##### Analysing #####"
   ]
  },
  {
   "cell_type": "code",
   "execution_count": 3,
   "metadata": {},
   "outputs": [
    {
     "output_type": "execute_result",
     "data": {
      "text/plain": [
       "count    390091.000000\n",
       "mean         44.076610\n",
       "std          14.542059\n",
       "min           0.000000\n",
       "25%          33.200000\n",
       "50%          43.800000\n",
       "75%          54.800000\n",
       "max          93.000000\n",
       "Name: NT_GER, dtype: float64"
      ]
     },
     "metadata": {},
     "execution_count": 3
    }
   ],
   "source": [
    "# Descriptive statistics of the NT_GER field (general grade)\n",
    "enade.NT_GER.describe()"
   ]
  },
  {
   "cell_type": "code",
   "execution_count": 4,
   "metadata": {},
   "outputs": [
    {
     "output_type": "execute_result",
     "data": {
      "text/plain": [
       "43839"
      ]
     },
     "metadata": {},
     "execution_count": 4
    }
   ],
   "source": [
    "# Counting the number of null values\n",
    "enade.NT_GER.isnull().sum()"
   ]
  },
  {
   "cell_type": "code",
   "execution_count": 5,
   "metadata": {},
   "outputs": [
    {
     "output_type": "execute_result",
     "data": {
      "text/plain": [
       "0.10102781554628627"
      ]
     },
     "metadata": {},
     "execution_count": 5
    }
   ],
   "source": [
    "# Relative count of the number of null values\n",
    "# shape.[0] returns the total quantity\n",
    "enade.NT_GER.isnull().sum() / enade.shape[0]"
   ]
  },
  {
   "cell_type": "code",
   "execution_count": 6,
   "metadata": {},
   "outputs": [
    {
     "output_type": "execute_result",
     "data": {
      "text/plain": [
       "count    82944.000000\n",
       "mean        43.788555\n",
       "std         14.622670\n",
       "min          0.000000\n",
       "25%         32.800000\n",
       "50%         43.400000\n",
       "75%         54.600000\n",
       "max         91.600000\n",
       "Name: NT_GER, dtype: float64"
      ]
     },
     "metadata": {},
     "execution_count": 6
    }
   ],
   "source": [
    "# Descriptive statistics of the NT_GER field (general grade) filtering the northeast region.\n",
    "enade.loc[\n",
    "    enade.CO_REGIAO_CURSO == 2\n",
    "].NT_GER.describe()"
   ]
  },
  {
   "cell_type": "code",
   "execution_count": 7,
   "metadata": {},
   "outputs": [
    {
     "output_type": "execute_result",
     "data": {
      "text/plain": [
       "count    389730.000000\n",
       "mean         44.117437\n",
       "std          14.486758\n",
       "min           0.300000\n",
       "25%          33.300000\n",
       "50%          43.800000\n",
       "75%          54.800000\n",
       "max          93.000000\n",
       "Name: NT_GER, dtype: float64"
      ]
     },
     "metadata": {},
     "execution_count": 7
    }
   ],
   "source": [
    "# Descriptive statistics of the NT_GER field (general grade) disregarding the zero values.\n",
    "enade.loc[\n",
    "    enade.NT_GER > 0\n",
    "].NT_GER.describe()"
   ]
  },
  {
   "cell_type": "code",
   "execution_count": 10,
   "metadata": {},
   "outputs": [
    {
     "output_type": "execute_result",
     "data": {
      "text/plain": [
       "count    385978.000000\n",
       "mean         44.149186\n",
       "std          14.527992\n",
       "min           0.000000\n",
       "25%          33.300000\n",
       "50%          43.900000\n",
       "75%          54.800000\n",
       "max          93.000000\n",
       "Name: NT_GER, dtype: float64"
      ]
     },
     "metadata": {},
     "execution_count": 10
    }
   ],
   "source": [
    "# It is interesting to disregard the grades of students who are an exception at the university, such as those under 17 years old or over 50 years old.\n",
    "enade.loc[\n",
    "    (enade.NU_IDADE >= 17) &\n",
    "    (enade.NU_IDADE <= 50)\n",
    "].NT_GER.describe()"
   ]
  },
  {
   "cell_type": "code",
   "execution_count": 11,
   "metadata": {},
   "outputs": [
    {
     "output_type": "execute_result",
     "data": {
      "text/plain": [
       "F    233279\n",
       "M    200651\n",
       "Name: TP_SEXO, dtype: int64"
      ]
     },
     "metadata": {},
     "execution_count": 11
    }
   ],
   "source": [
    "# Counting men and women\n",
    "enade.TP_SEXO.value_counts()"
   ]
  },
  {
   "cell_type": "code",
   "execution_count": 5,
   "metadata": {},
   "outputs": [
    {
     "output_type": "execute_result",
     "data": {
      "text/plain": [
       "F    0.537596\n",
       "M    0.462404\n",
       "Name: TP_SEXO, dtype: float64"
      ]
     },
     "metadata": {},
     "execution_count": 5
    }
   ],
   "source": [
    "# Proportion of men and women\n",
    "enade.TP_SEXO.value_counts() / enade.shape[0]"
   ]
  },
  {
   "cell_type": "code",
   "execution_count": 3,
   "metadata": {},
   "outputs": [
    {
     "output_type": "execute_result",
     "data": {
      "text/plain": [
       "              NT_GER          NT_FG          NT_CE\n",
       "count  390091.000000  390091.000000  390091.000000\n",
       "mean       44.076610      39.837949      45.472874\n",
       "std        14.542059      16.241178      16.641654\n",
       "min         0.000000       0.000000       0.000000\n",
       "25%        33.200000      28.500000      32.900000\n",
       "50%        43.800000      39.300000      45.200000\n",
       "75%        54.800000      51.300000      57.800000\n",
       "max        93.000000      97.800000     100.000000"
      ],
      "text/html": "<div>\n<style scoped>\n    .dataframe tbody tr th:only-of-type {\n        vertical-align: middle;\n    }\n\n    .dataframe tbody tr th {\n        vertical-align: top;\n    }\n\n    .dataframe thead th {\n        text-align: right;\n    }\n</style>\n<table border=\"1\" class=\"dataframe\">\n  <thead>\n    <tr style=\"text-align: right;\">\n      <th></th>\n      <th>NT_GER</th>\n      <th>NT_FG</th>\n      <th>NT_CE</th>\n    </tr>\n  </thead>\n  <tbody>\n    <tr>\n      <th>count</th>\n      <td>390091.000000</td>\n      <td>390091.000000</td>\n      <td>390091.000000</td>\n    </tr>\n    <tr>\n      <th>mean</th>\n      <td>44.076610</td>\n      <td>39.837949</td>\n      <td>45.472874</td>\n    </tr>\n    <tr>\n      <th>std</th>\n      <td>14.542059</td>\n      <td>16.241178</td>\n      <td>16.641654</td>\n    </tr>\n    <tr>\n      <th>min</th>\n      <td>0.000000</td>\n      <td>0.000000</td>\n      <td>0.000000</td>\n    </tr>\n    <tr>\n      <th>25%</th>\n      <td>33.200000</td>\n      <td>28.500000</td>\n      <td>32.900000</td>\n    </tr>\n    <tr>\n      <th>50%</th>\n      <td>43.800000</td>\n      <td>39.300000</td>\n      <td>45.200000</td>\n    </tr>\n    <tr>\n      <th>75%</th>\n      <td>54.800000</td>\n      <td>51.300000</td>\n      <td>57.800000</td>\n    </tr>\n    <tr>\n      <th>max</th>\n      <td>93.000000</td>\n      <td>97.800000</td>\n      <td>100.000000</td>\n    </tr>\n  </tbody>\n</table>\n</div>"
     },
     "metadata": {},
     "execution_count": 3
    }
   ],
   "source": [
    "# Comparison of the descriptive statistics of the three types of grades: NT_GER (general grade), NT_FG (general formation) and NT_CE (specific component)\n",
    "enade[['NT_GER','NT_FG','NT_CE']].describe()"
   ]
  },
  {
   "cell_type": "code",
   "execution_count": 7,
   "metadata": {},
   "outputs": [
    {
     "output_type": "execute_result",
     "data": {
      "text/plain": [
       "                    NT_GER      NT_FG      NT_CE\n",
       "CO_REGIAO_CURSO                                 \n",
       "1                40.282753  37.119037  41.320522\n",
       "2                43.788555  40.057649  45.015455\n",
       "3                44.016319  40.144793  45.290297\n",
       "4                45.747187  40.082428  47.618845\n",
       "5                44.604609  39.180022  46.396032"
      ],
      "text/html": "<div>\n<style scoped>\n    .dataframe tbody tr th:only-of-type {\n        vertical-align: middle;\n    }\n\n    .dataframe tbody tr th {\n        vertical-align: top;\n    }\n\n    .dataframe thead th {\n        text-align: right;\n    }\n</style>\n<table border=\"1\" class=\"dataframe\">\n  <thead>\n    <tr style=\"text-align: right;\">\n      <th></th>\n      <th>NT_GER</th>\n      <th>NT_FG</th>\n      <th>NT_CE</th>\n    </tr>\n    <tr>\n      <th>CO_REGIAO_CURSO</th>\n      <th></th>\n      <th></th>\n      <th></th>\n    </tr>\n  </thead>\n  <tbody>\n    <tr>\n      <th>1</th>\n      <td>40.282753</td>\n      <td>37.119037</td>\n      <td>41.320522</td>\n    </tr>\n    <tr>\n      <th>2</th>\n      <td>43.788555</td>\n      <td>40.057649</td>\n      <td>45.015455</td>\n    </tr>\n    <tr>\n      <th>3</th>\n      <td>44.016319</td>\n      <td>40.144793</td>\n      <td>45.290297</td>\n    </tr>\n    <tr>\n      <th>4</th>\n      <td>45.747187</td>\n      <td>40.082428</td>\n      <td>47.618845</td>\n    </tr>\n    <tr>\n      <th>5</th>\n      <td>44.604609</td>\n      <td>39.180022</td>\n      <td>46.396032</td>\n    </tr>\n  </tbody>\n</table>\n</div>"
     },
     "metadata": {},
     "execution_count": 7
    }
   ],
   "source": [
    "# Average of the three grade types by region\n",
    "# We use a dictionary to define the fields and the aggregating function that should be applied.\n",
    "# With groupby we do the grouping\n",
    "enade.groupby('CO_REGIAO_CURSO').agg({\n",
    "    \"NT_GER\":\"mean\"\n",
    "    ,\"NT_FG\":\"mean\"\n",
    "    ,\"NT_CE\":\"mean\"\n",
    "})"
   ]
  },
  {
   "cell_type": "code",
   "execution_count": null,
   "metadata": {},
   "outputs": [],
   "source": [
    "##### Transforming #####\n",
    "# Fields selected to work with: CO_IES, CO_CATEGAD, CO_GRUPO, CO_MODALIDADE, CO_UF_CURSO, CO_REGIAO_CURSO, NU_IDADE, TP_SEXO, NT_GER, NT_FG, NT_CE"
   ]
  },
  {
   "cell_type": "code",
   "execution_count": 4,
   "metadata": {},
   "outputs": [],
   "source": [
    "# There are 15 types of CO_CATEGAD (Administrative category). We make a new classification separating only between Public (Público) and Private (Privado).\n",
    "# For this, a new column is created to receive these values. We do the classification using loc [] and the isin () function, passing a list of codes as a parameter (a list of CO_CATEGAD that fits into the Public category, and another list referring to the Private category).\n",
    "\n",
    "enade['DESCR_CATEGORIA'] = \"\"\n",
    "enade.loc[\n",
    "    enade.CO_CATEGAD.isin([118,120,121,10005,10006,10007,10008,10009,17634])\n",
    "    ,\"DESCR_CATEGORIA\"\n",
    "] = 'Privado'\n",
    "\n",
    "enade.loc[\n",
    "    enade.CO_CATEGAD.isin([93,115,116,10001,10002,10003])\n",
    "    ,\"DESCR_CATEGORIA\"\n",
    "] = 'Público'"
   ]
  },
  {
   "cell_type": "code",
   "execution_count": 5,
   "metadata": {},
   "outputs": [
    {
     "output_type": "execute_result",
     "data": {
      "text/plain": [
       "Privado    332879\n",
       "Público    101051\n",
       "Name: DESCR_CATEGORIA, dtype: int64"
      ]
     },
     "metadata": {},
     "execution_count": 5
    }
   ],
   "source": [
    "enade.DESCR_CATEGORIA.value_counts()"
   ]
  },
  {
   "cell_type": "code",
   "execution_count": 12,
   "metadata": {},
   "outputs": [],
   "source": [
    "# CO_MODALIDADE: we replaced 0 by EaD and 1 Presencial\n",
    "# *Remembering that a good practice is always to create a new variable (column, field) for the transformed data, and not to modify the original data.\n",
    "enade['DESCR_MODALIDADE'] = enade.CO_MODALIDADE.replace({\n",
    "    0: \"Ead\"\n",
    "    ,1:\"Presencial\"\n",
    "})"
   ]
  },
  {
   "cell_type": "code",
   "execution_count": 14,
   "metadata": {},
   "outputs": [
    {
     "output_type": "execute_result",
     "data": {
      "text/plain": [
       "Presencial    410542\n",
       "Ead            23388\n",
       "Name: DESCR_MODALIDADE, dtype: int64"
      ]
     },
     "metadata": {},
     "execution_count": 14
    }
   ],
   "source": [
    "enade.DESCR_MODALIDADE.value_counts()"
   ]
  },
  {
   "cell_type": "code",
   "execution_count": 8,
   "metadata": {},
   "outputs": [],
   "source": [
    "# We replaced the region codes with the description\n",
    "enade['DESCR_REGIAO_CURSO'] = enade.CO_REGIAO_CURSO.replace({\n",
    "    1:\"Norte\"\n",
    "    ,2:\"Nordeste\"\n",
    "    ,3:\"Sudeste\"\n",
    "    ,4:\"Sul\"\n",
    "    ,5:\"Centro-oeste\"\n",
    "})"
   ]
  },
  {
   "cell_type": "code",
   "execution_count": 19,
   "metadata": {},
   "outputs": [
    {
     "output_type": "execute_result",
     "data": {
      "text/plain": [
       "Sudeste         202505\n",
       "Nordeste         91742\n",
       "Sul              76788\n",
       "Centro-oeste     34192\n",
       "Norte            28703\n",
       "Name: DESCR_REGIAO_CURSO, dtype: int64"
      ]
     },
     "metadata": {},
     "execution_count": 19
    }
   ],
   "source": [
    "enade.DESCR_REGIAO_CURSO.value_counts()"
   ]
  },
  {
   "cell_type": "code",
   "execution_count": 11,
   "metadata": {},
   "outputs": [],
   "source": [
    "# Transformations of some fields of the student questionnaire\n",
    "# QE_I02: A = Branca, B = Preta, C = Amarela, D = Parda, E = Indígena, F = Não quero declarar\n",
    "# In cases where the value is a blank space or \"Eu não quero declarar\" we substitute pd.NA, which means \"No answer\", that is missing value and this is considered in the calculations.\n",
    "enade['DESCR_COR'] = enade.QE_I02.replace({\n",
    "    \"A\":\"Branca\"\n",
    "    ,\"B\":\"Preta\"\n",
    "    ,\"C\":\"Amarela\"\n",
    "    ,\"D\":\"Parda\"\n",
    "    ,\"E\":\"Indígena\"\n",
    "    ,\"F\":pd.NA\n",
    "    ,\" \":pd.NA\n",
    "})"
   ]
  },
  {
   "cell_type": "code",
   "execution_count": 6,
   "metadata": {},
   "outputs": [
    {
     "output_type": "execute_result",
     "data": {
      "text/plain": [
       "Branca      220386\n",
       "Parda       135770\n",
       "Preta        32869\n",
       "Amarela      10093\n",
       "Indígena      1300\n",
       "Name: DESCR_COR, dtype: int64"
      ]
     },
     "metadata": {},
     "execution_count": 6
    }
   ],
   "source": [
    "enade.DESCR_COR.value_counts()"
   ]
  },
  {
   "cell_type": "code",
   "execution_count": 9,
   "metadata": {},
   "outputs": [
    {
     "output_type": "execute_result",
     "data": {
      "text/plain": [
       "43.78855492862654"
      ]
     },
     "metadata": {},
     "execution_count": 9
    }
   ],
   "source": [
    "# Some questions to answer\n",
    "# 11. What is the average General Grade of students in the Northeast region?\n",
    "enade.loc[\n",
    "    enade.DESCR_REGIAO_CURSO == 'Nordeste'\n",
    "    ,\"NT_GER\"\n",
    "].mean()"
   ]
  },
  {
   "cell_type": "code",
   "execution_count": 10,
   "metadata": {},
   "outputs": [
    {
     "output_type": "execute_result",
     "data": {
      "text/plain": [
       "34.79692671394799"
      ]
     },
     "metadata": {},
     "execution_count": 10
    }
   ],
   "source": [
    "# 2. 2. What is the average of the Specific Component grade of students in Rio Grande do Sul from Electrical Engineering courses?\n",
    "enade.loc[\n",
    "    (enade.CO_UF_CURSO == 43) &\n",
    "    (enade.CO_GRUPO == 5806)\n",
    "    ,\"NT_CE\"\n",
    "].mean()"
   ]
  },
  {
   "cell_type": "code",
   "execution_count": 13,
   "metadata": {},
   "outputs": [
    {
     "output_type": "execute_result",
     "data": {
      "text/plain": [
       "40.19142394822006"
      ]
     },
     "metadata": {},
     "execution_count": 13
    }
   ],
   "source": [
    "# 3. What is the average grade of the General Formation component of brown students from Minas Gerais in classroom courses in production engineering?\n",
    "enade.loc[\n",
    "    (enade.TP_SEXO == 'F') &\n",
    "    (enade.DESCR_COR == 'Parda') &\n",
    "    (enade.CO_UF_CURSO == 31) &\n",
    "    (enade.DESCR_MODALIDADE == 'Presencial') &\n",
    "    (enade.CO_GRUPO == 6208)\n",
    "    ,\"NT_FG\"\n",
    "].mean()"
   ]
  }
 ]
}